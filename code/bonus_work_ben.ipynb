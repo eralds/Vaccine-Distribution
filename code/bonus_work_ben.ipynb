{
 "cells": [
  {
   "cell_type": "code",
   "execution_count": 48,
   "metadata": {
    "collapsed": true,
    "pycharm": {
     "name": "#%%\n"
    }
   },
   "outputs": [],
   "source": [
    "import json\n",
    "\n",
    "import numpy as np\n",
    "import pandas as pd\n",
    "import sqlalchemy\n",
    "from sqlalchemy import create_engine\n",
    "from scipy import stats\n",
    "import matplotlib.pyplot as plt\n",
    "\n",
    "\n",
    "# cred_file = 'credentials_local.json'\n",
    "cred_file = 'credentials.json'\n",
    "# use 'credentials.json' to connect to the remote database\n",
    "\n",
    "# Load a dictionary of credentials\n",
    "with open(cred_file) as fp:\n",
    "    creds = json.load(fp)\n",
    "\n",
    "db_url = 'postgresql+psycopg2://' + \\\n",
    "    '{user}:{password}@{host}:{port}/{database}' \\\n",
    "    .format(**creds)\n",
    "\n",
    "engine = create_engine(db_url)"
   ]
  },
  {
   "cell_type": "markdown",
   "source": [
    "This analysis uses the results of questions 1 and 2 of part 3 of the project, so we repeat the code from there."
   ],
   "metadata": {
    "collapsed": false,
    "pycharm": {
     "name": "#%% md\n"
    }
   },
   "outputs": []
  },
  {
   "cell_type": "code",
   "execution_count": null,
   "outputs": [],
   "source": [
    "def conditional_commit():\n",
    "    \"\"\"Commit if major version number is greater than 1\"\"\"\n",
    "    if int(sqlalchemy.__version__.split('.')[0]) > 1:\n",
    "        psql_conn.commit()"
   ],
   "metadata": {
    "collapsed": false,
    "pycharm": {
     "name": "#%%\n"
    }
   }
  },
  {
   "cell_type": "code",
   "execution_count": 4,
   "outputs": [],
   "source": [
    "with engine.connect() as psql_conn:\n",
    "    # 1.\n",
    "    diagnoses = pd.read_sql_table('diagnosis', psql_conn)\n",
    "    diagnoses.rename({'patient': 'ssno', 'reportdate': 'diagnosisdate'},\n",
    "                     axis=1, inplace=True)\n",
    "\n",
    "    patients = pd.read_sql_table('patients', psql_conn)\n",
    "    patients.drop('name', axis=1, inplace=True)\n",
    "\n",
    "    patientsymptoms = pd.merge(patients, diagnoses,\n",
    "                               on='ssno', how='right')\n",
    "\n",
    "    patientsymptoms = patientsymptoms[['ssno', 'gender', 'dateofbirth',\n",
    "                                       'symptom', 'diagnosisdate']]\n",
    "\n",
    "    patientsymptoms.to_sql('patientsymptoms', psql_conn,\n",
    "                           if_exists='replace', index=True)\n",
    "\n",
    "    conditional_commit()\n"
   ],
   "metadata": {
    "collapsed": false,
    "pycharm": {
     "name": "#%%\n"
    }
   }
  },
  {
   "cell_type": "code",
   "execution_count": 5,
   "outputs": [],
   "source": [
    "with engine.connect() as psql_conn:\n",
    "    # 2.\n",
    "    vaccpats = pd.read_sql_table('vaccinepatients', psql_conn)\n",
    "    vaccinations = pd.read_sql_table('vaccinations', psql_conn)\n",
    "    batches = pd.read_sql_table('vaccinebatch', psql_conn)\n",
    "\n",
    "    batches.drop(['numvaccines', 'manufacturer', 'dateproduced',\n",
    "                  'expirationdate', 'location'],\n",
    "                 axis=1, inplace=True)\n",
    "\n",
    "    vaccpats = pd.merge(vaccpats, vaccinations,\n",
    "                        on=('vaccinationdate', 'location'),\n",
    "                        how='left')\n",
    "\n",
    "    vaccpats = pd.merge(vaccpats, batches,\n",
    "                        on='batchid',\n",
    "                        how='left')\n",
    "\n",
    "    vaccpats.sort_values(by='vaccinationdate', inplace=True)\n",
    "\n",
    "    vaccpats.rename({'patientssno': 'ssno'}, inplace=True, axis=1)\n",
    "\n",
    "    nulls = [None] * patients.shape[0]\n",
    "    pvi = pd.concat([patients.ssno,\n",
    "                    pd.DataFrame({'date1': nulls,\n",
    "                                  'vaccinetype1': nulls,\n",
    "                                  'date2': nulls,\n",
    "                                  'vaccinetype2': nulls})],\n",
    "                    axis=1)\n",
    "\n",
    "    pvi.set_index('ssno', inplace=True)\n",
    "    for _, row in vaccpats.iterrows():\n",
    "        if pvi.isna().loc[row.ssno, 'date1']:\n",
    "            pvi.loc[row.ssno, 'date1'] = row.vaccinationdate\n",
    "            pvi.loc[row.ssno, 'vaccinetype1'] = row.vaccineid\n",
    "        elif pvi.isna().loc[row.ssno, 'date2']:\n",
    "            pvi.loc[row.ssno, 'date2'] = row.vaccinationdate\n",
    "            pvi.loc[row.ssno, 'vaccinetype2'] = row.vaccineid\n",
    "        else:\n",
    "            raise Exception('Third vaccination found')\n",
    "\n",
    "    pvi.reset_index(inplace=True)\n",
    "    pvi.to_sql('patientvaccineinfo', psql_conn,\n",
    "               if_exists='replace', index=True)\n",
    "\n",
    "    conditional_commit()"
   ],
   "metadata": {
    "collapsed": false,
    "pycharm": {
     "name": "#%%\n"
    }
   }
  },
  {
   "cell_type": "markdown",
   "source": [
    "\n",
    "We are interested in whether there is a difference in the tendency of vaccines to cause symptoms depending on which type of vaccine is given.  We look at data of information about what vaccines patients have received and what symptoms were reported."
   ],
   "metadata": {
    "collapsed": false,
    "pycharm": {
     "name": "#%% md\n"
    }
   }
  },
  {
   "cell_type": "code",
   "execution_count": 49,
   "outputs": [],
   "source": [
    "with engine.connect() as psql_conn:\n",
    "    pvi = pd.read_sql_table('patientvaccineinfo', psql_conn)\n",
    "    diagnoses = pd.read_sql_table('patientsymptoms', psql_conn)"
   ],
   "metadata": {
    "collapsed": false,
    "pycharm": {
     "name": "#%%\n"
    }
   }
  },
  {
   "cell_type": "markdown",
   "source": [
    "We take diagnoses only where they occur on or after the initial vaccination date"
   ],
   "metadata": {
    "collapsed": false,
    "pycharm": {
     "name": "#%% md\n"
    }
   }
  },
  {
   "cell_type": "code",
   "execution_count": 50,
   "outputs": [],
   "source": [
    "diag_and_vac_info = pd.merge(diagnoses, pvi, on='ssno', how='left')\n",
    "diag_and_vac_info = diag_and_vac_info[\n",
    "    pd.to_datetime(diag_and_vac_info.diagnosisdate)\n",
    "    >= pd.to_datetime(diag_and_vac_info.date1)]"
   ],
   "metadata": {
    "collapsed": false,
    "pycharm": {
     "name": "#%%\n"
    }
   }
  },
  {
   "cell_type": "markdown",
   "source": [
    "Examining the patient vaccine info where patients have received two doses:"
   ],
   "metadata": {
    "collapsed": false,
    "pycharm": {
     "name": "#%% md\n"
    }
   }
  },
  {
   "cell_type": "code",
   "execution_count": 51,
   "outputs": [
    {
     "data": {
      "text/plain": "     index         ssno      date1 vaccinetype1      date2 vaccinetype2\n0        0  841229-112N 2021-01-30          V01 2021-02-14          V03\n11      11  890104-753F 2021-01-30          V01 2021-02-14          V03\n15      15  840805-1135 2021-01-30          V01 2021-02-14          V03\n40      40  751211-287B 2021-01-30          V01 2021-02-14          V03\n44      44  060421-302M 2021-03-16          V01 2021-05-10          V02\n52      52  880810-358W 2021-01-30          V03 2021-02-14          V03\n60      60  090416-443L 2021-03-16          V01 2021-05-10          V02\n66      66  871128-519R 2021-03-16          V01 2021-05-10          V02\n68      68  010327-525G 2021-03-16          V01 2021-05-10          V02\n74      74  090226-5673 2021-03-16          V01 2021-05-10          V02\n79      79  160930-586P 2021-01-30          V01 2021-02-14          V03\n106    106  210318-737O 2021-03-16          V01 2021-05-10          V02",
      "text/html": "<div>\n<style scoped>\n    .dataframe tbody tr th:only-of-type {\n        vertical-align: middle;\n    }\n\n    .dataframe tbody tr th {\n        vertical-align: top;\n    }\n\n    .dataframe thead th {\n        text-align: right;\n    }\n</style>\n<table border=\"1\" class=\"dataframe\">\n  <thead>\n    <tr style=\"text-align: right;\">\n      <th></th>\n      <th>index</th>\n      <th>ssno</th>\n      <th>date1</th>\n      <th>vaccinetype1</th>\n      <th>date2</th>\n      <th>vaccinetype2</th>\n    </tr>\n  </thead>\n  <tbody>\n    <tr>\n      <th>0</th>\n      <td>0</td>\n      <td>841229-112N</td>\n      <td>2021-01-30</td>\n      <td>V01</td>\n      <td>2021-02-14</td>\n      <td>V03</td>\n    </tr>\n    <tr>\n      <th>11</th>\n      <td>11</td>\n      <td>890104-753F</td>\n      <td>2021-01-30</td>\n      <td>V01</td>\n      <td>2021-02-14</td>\n      <td>V03</td>\n    </tr>\n    <tr>\n      <th>15</th>\n      <td>15</td>\n      <td>840805-1135</td>\n      <td>2021-01-30</td>\n      <td>V01</td>\n      <td>2021-02-14</td>\n      <td>V03</td>\n    </tr>\n    <tr>\n      <th>40</th>\n      <td>40</td>\n      <td>751211-287B</td>\n      <td>2021-01-30</td>\n      <td>V01</td>\n      <td>2021-02-14</td>\n      <td>V03</td>\n    </tr>\n    <tr>\n      <th>44</th>\n      <td>44</td>\n      <td>060421-302M</td>\n      <td>2021-03-16</td>\n      <td>V01</td>\n      <td>2021-05-10</td>\n      <td>V02</td>\n    </tr>\n    <tr>\n      <th>52</th>\n      <td>52</td>\n      <td>880810-358W</td>\n      <td>2021-01-30</td>\n      <td>V03</td>\n      <td>2021-02-14</td>\n      <td>V03</td>\n    </tr>\n    <tr>\n      <th>60</th>\n      <td>60</td>\n      <td>090416-443L</td>\n      <td>2021-03-16</td>\n      <td>V01</td>\n      <td>2021-05-10</td>\n      <td>V02</td>\n    </tr>\n    <tr>\n      <th>66</th>\n      <td>66</td>\n      <td>871128-519R</td>\n      <td>2021-03-16</td>\n      <td>V01</td>\n      <td>2021-05-10</td>\n      <td>V02</td>\n    </tr>\n    <tr>\n      <th>68</th>\n      <td>68</td>\n      <td>010327-525G</td>\n      <td>2021-03-16</td>\n      <td>V01</td>\n      <td>2021-05-10</td>\n      <td>V02</td>\n    </tr>\n    <tr>\n      <th>74</th>\n      <td>74</td>\n      <td>090226-5673</td>\n      <td>2021-03-16</td>\n      <td>V01</td>\n      <td>2021-05-10</td>\n      <td>V02</td>\n    </tr>\n    <tr>\n      <th>79</th>\n      <td>79</td>\n      <td>160930-586P</td>\n      <td>2021-01-30</td>\n      <td>V01</td>\n      <td>2021-02-14</td>\n      <td>V03</td>\n    </tr>\n    <tr>\n      <th>106</th>\n      <td>106</td>\n      <td>210318-737O</td>\n      <td>2021-03-16</td>\n      <td>V01</td>\n      <td>2021-05-10</td>\n      <td>V02</td>\n    </tr>\n  </tbody>\n</table>\n</div>"
     },
     "execution_count": 51,
     "metadata": {},
     "output_type": "execute_result"
    }
   ],
   "source": [
    "pvi[pvi.vaccinetype2.notna()]"
   ],
   "metadata": {
    "collapsed": false,
    "pycharm": {
     "name": "#%%\n"
    }
   }
  },
  {
   "cell_type": "markdown",
   "source": [
    "We see that there are only 12 patients that have received two doses, and usually they are of different types.  So we only look at patients who received a first and only a first dose and compute the number of symptoms that were reported for each patient."
   ],
   "metadata": {
    "collapsed": false,
    "pycharm": {
     "name": "#%% md\n"
    }
   }
  },
  {
   "cell_type": "code",
   "execution_count": 52,
   "outputs": [],
   "source": [
    "\n",
    "# take only rows where patient did not receive a second dose\n",
    "pvi = pvi[pvi.date2.isna()]\n",
    "\n",
    "# remove rows where patient did not receive a first dose\n",
    "pvi = pvi.dropna(subset=['date1'])[['ssno', 'date1', 'vaccinetype1']]\n"
   ],
   "metadata": {
    "collapsed": false,
    "pycharm": {
     "name": "#%%\n"
    }
   }
  },
  {
   "cell_type": "code",
   "execution_count": 53,
   "outputs": [],
   "source": [
    "# get counts of diagnoses for each patient\n",
    "grps = diag_and_vac_info.groupby('ssno')\n",
    "counts = grps.count().rename({'index_x': 'count_'}, axis=1) \\\n",
    "    .reset_index()[['ssno', 'count_']]\n",
    "\n",
    "type_counts = pd.merge(pvi, counts, on='ssno', how='left')\n",
    "\n",
    "type_counts['count_'] = type_counts.count_.fillna(0)\n"
   ],
   "metadata": {
    "collapsed": false,
    "pycharm": {
     "name": "#%%\n"
    }
   }
  },
  {
   "cell_type": "markdown",
   "source": [
    "We take a look at the data."
   ],
   "metadata": {
    "collapsed": false,
    "pycharm": {
     "name": "#%% md\n"
    }
   }
  },
  {
   "cell_type": "code",
   "execution_count": 54,
   "outputs": [
    {
     "data": {
      "text/plain": "           ssno      date1 vaccinetype1  count_\n0   780214-1893 2021-01-30          V01     1.0\n1   950303-191X 2021-02-14          V03     2.0\n2   730218-253D 2021-03-16          V01     3.0\n3   971214-2818 2021-02-14          V03     1.0\n4   060325-323X 2021-01-30          V03     4.0\n..          ...        ...          ...     ...\n70  850310-787I 2021-05-10          V01     3.0\n71  090602-7898 2021-05-10          V02     0.0\n72  041113-8113 2021-05-10          V02     1.0\n73  090518-869W 2021-05-10          V02     1.0\n74  741222-8947 2021-05-10          V02     0.0\n\n[75 rows x 4 columns]",
      "text/html": "<div>\n<style scoped>\n    .dataframe tbody tr th:only-of-type {\n        vertical-align: middle;\n    }\n\n    .dataframe tbody tr th {\n        vertical-align: top;\n    }\n\n    .dataframe thead th {\n        text-align: right;\n    }\n</style>\n<table border=\"1\" class=\"dataframe\">\n  <thead>\n    <tr style=\"text-align: right;\">\n      <th></th>\n      <th>ssno</th>\n      <th>date1</th>\n      <th>vaccinetype1</th>\n      <th>count_</th>\n    </tr>\n  </thead>\n  <tbody>\n    <tr>\n      <th>0</th>\n      <td>780214-1893</td>\n      <td>2021-01-30</td>\n      <td>V01</td>\n      <td>1.0</td>\n    </tr>\n    <tr>\n      <th>1</th>\n      <td>950303-191X</td>\n      <td>2021-02-14</td>\n      <td>V03</td>\n      <td>2.0</td>\n    </tr>\n    <tr>\n      <th>2</th>\n      <td>730218-253D</td>\n      <td>2021-03-16</td>\n      <td>V01</td>\n      <td>3.0</td>\n    </tr>\n    <tr>\n      <th>3</th>\n      <td>971214-2818</td>\n      <td>2021-02-14</td>\n      <td>V03</td>\n      <td>1.0</td>\n    </tr>\n    <tr>\n      <th>4</th>\n      <td>060325-323X</td>\n      <td>2021-01-30</td>\n      <td>V03</td>\n      <td>4.0</td>\n    </tr>\n    <tr>\n      <th>...</th>\n      <td>...</td>\n      <td>...</td>\n      <td>...</td>\n      <td>...</td>\n    </tr>\n    <tr>\n      <th>70</th>\n      <td>850310-787I</td>\n      <td>2021-05-10</td>\n      <td>V01</td>\n      <td>3.0</td>\n    </tr>\n    <tr>\n      <th>71</th>\n      <td>090602-7898</td>\n      <td>2021-05-10</td>\n      <td>V02</td>\n      <td>0.0</td>\n    </tr>\n    <tr>\n      <th>72</th>\n      <td>041113-8113</td>\n      <td>2021-05-10</td>\n      <td>V02</td>\n      <td>1.0</td>\n    </tr>\n    <tr>\n      <th>73</th>\n      <td>090518-869W</td>\n      <td>2021-05-10</td>\n      <td>V02</td>\n      <td>1.0</td>\n    </tr>\n    <tr>\n      <th>74</th>\n      <td>741222-8947</td>\n      <td>2021-05-10</td>\n      <td>V02</td>\n      <td>0.0</td>\n    </tr>\n  </tbody>\n</table>\n<p>75 rows × 4 columns</p>\n</div>"
     },
     "execution_count": 54,
     "metadata": {},
     "output_type": "execute_result"
    }
   ],
   "source": [
    "type_counts"
   ],
   "metadata": {
    "collapsed": false,
    "pycharm": {
     "name": "#%%\n"
    }
   }
  },
  {
   "cell_type": "code",
   "execution_count": 55,
   "outputs": [
    {
     "data": {
      "text/plain": "V03    30\nV01    24\nV02    21\nName: vaccinetype1, dtype: int64"
     },
     "execution_count": 55,
     "metadata": {},
     "output_type": "execute_result"
    }
   ],
   "source": [
    "type_counts.vaccinetype1.value_counts()"
   ],
   "metadata": {
    "collapsed": false,
    "pycharm": {
     "name": "#%%\n"
    }
   }
  },
  {
   "cell_type": "markdown",
   "source": [
    "We would like to use scipy.stats's f_oneway function to perform an ANOVA analysis.  This requires that variances are equal and that either data is normally distributed or there are a lot of data points.  Clearly there are not many data points, so we look to see if the data might be approximately normally distributed by looking at histograms."
   ],
   "metadata": {
    "collapsed": false,
    "pycharm": {
     "name": "#%% md\n"
    }
   }
  },
  {
   "cell_type": "code",
   "execution_count": 56,
   "outputs": [
    {
     "data": {
      "text/plain": "<Figure size 640x480 with 3 Axes>",
      "image/png": "[encoded data removed]"
     },
     "metadata": {},
     "output_type": "display_data"
    }
   ],
   "source": [
    "counts_v01 = type_counts.count_[type_counts.vaccinetype1 == 'V01']\n",
    "counts_v02 = type_counts.count_[type_counts.vaccinetype1 == 'V02']\n",
    "counts_v03 = type_counts.count_[type_counts.vaccinetype1 == 'V03']\n",
    "\n",
    "\n",
    "def add_text_axis_coord(ax, x, y, s, **kwargs):\n",
    "    x1, x2 = ax.get_xlim()\n",
    "    y1, y2 = ax.get_ylim()\n",
    "    xd = x1 + (x2 - x1)*x\n",
    "    yd = y1 + (y2 - y1)*y\n",
    "    return ax.text(xd, yd, s, **kwargs)\n",
    "\n",
    "\n",
    "fig, axes = plt.subplots(3, 1)\n",
    "labels = ['V01', 'V02', 'V03']\n",
    "\n",
    "bins = np.linspace(-0.5, 4.5, 6)\n",
    "\n",
    "_ = counts_v01.hist(ax=axes[0], bins=bins)\n",
    "_ = counts_v02.hist(ax=axes[1], bins=bins)\n",
    "_ = counts_v03.hist(ax=axes[2], bins=bins)\n",
    "\n",
    "for ax, lab in zip(axes, labels):\n",
    "    _ = add_text_axis_coord(ax, 0.8, 0.8, lab)\n"
   ],
   "metadata": {
    "collapsed": false,
    "pycharm": {
     "name": "#%%\n"
    }
   }
  },
  {
   "cell_type": "markdown",
   "source": [
    "It looks like there might be a difference in the effects between V03 and the other data. However, obviously these data are not normally distributed, so we must abandon our original approach.   Instead, we convert our data to binary, where 1 represents the case where the number of symptom reports is greater than zero, and 0 represents no symptoms being reported.  We then perform pairwise comparisons using the two-sample proportion test, where for any pair of samples, the null hypothesis is that probabilities of a 1 occurring are equal.  Since the probability for at least one type I error among the three combinations is increased, we must adjust the required p-value to be one third of the prescribed significance level, which we chose to be 0.05 as is typically done.  That is, we apply the Bonferroni correction and look for p-values less than 0.01667."
   ],
   "metadata": {
    "collapsed": false,
    "pycharm": {
     "name": "#%% md\n"
    }
   }
  },
  {
   "cell_type": "code",
   "execution_count": 57,
   "outputs": [
    {
     "name": "stdout",
     "output_type": "stream",
     "text": [
      "p-value = 0.2002590712500678\n",
      "p-value = 0.13412008326379768\n",
      "p-value = 0.873351235048516\n"
     ]
    }
   ],
   "source": [
    "def two_sample_proportion_test(X, Y):\n",
    "    \"\"\"\n",
    "    Returns the p-value from a two-sample proportion test.\n",
    "    This is based on lecture slides from the course:\n",
    "    MS-C1620 Statistical Inference at Aalto University in Spring 2023\n",
    "    taught by Jukka Kohonen.\n",
    "    :param X: One sample of binary data\n",
    "    :param Y: Another sample of binary data\n",
    "    :return: p-value\n",
    "    \"\"\"\n",
    "    assert X.apply(lambda u: u in {0, 1}).all()\n",
    "    assert Y.apply(lambda u: u in {0, 1}).all()\n",
    "    n = len(X)\n",
    "    m = len(Y)\n",
    "    sx = X.sum()\n",
    "    sy = Y.sum()\n",
    "\n",
    "    theta_x = sx/n\n",
    "    theta_y = sy/m\n",
    "\n",
    "    theta = (sx + sy) / (n + m)\n",
    "\n",
    "    Z = (theta_x - theta_y) \\\n",
    "        / np.sqrt(theta * (1 - theta) * (1 / n + 1 / m))\n",
    "\n",
    "    warning_message = 'Results are not statistically accurate'\n",
    "    if n * theta_x <= 5:\n",
    "        print(f'Warning n * theta_hat_x <= 5.  {warning_message}')\n",
    "    if n * (1 - theta_x) <= 5:\n",
    "        print(f'Warning n * (1 - theta_hat_x) <= 5.  {warning_message}')\n",
    "    if m * theta_y <= 5:\n",
    "        print(f'Warning m * theta_hat_y <= 5.  {warning_message}')\n",
    "    if m * (1 - theta_y) <= 5:\n",
    "        print(f'Warning m * (1 - theta_hat_y) <= 5.  {warning_message}')\n",
    "\n",
    "    p = 2 * stats.norm().cdf(-np.abs(Z))\n",
    "    return p\n",
    "\n",
    "p = two_sample_proportion_test(1 * (counts_v03 > 0),\n",
    "                               1 * (counts_v02 > 0))\n",
    "\n",
    "print(f'p-value = {p}')\n",
    "\n",
    "p = two_sample_proportion_test(1 * (counts_v03 > 0),\n",
    "                               1 * (counts_v01 > 0))\n",
    "\n",
    "print(f'p-value = {p}')\n",
    "\n",
    "p = two_sample_proportion_test(1 * (counts_v02 > 0),\n",
    "                               1 * (counts_v01 > 0))\n",
    "\n",
    "print(f'p-value = {p}')"
   ],
   "metadata": {
    "collapsed": false,
    "pycharm": {
     "name": "#%%\n"
    }
   }
  },
  {
   "cell_type": "markdown",
   "source": [
    "While it did look like there might be a difference of symptoms depending on vaccine type, there is not enough evidence to rule out that this might have occurred by chance."
   ],
   "metadata": {
    "collapsed": false,
    "pycharm": {
     "name": "#%% md\n"
    }
   }
  },
  {
   "cell_type": "markdown",
   "source": [],
   "metadata": {
    "collapsed": false,
    "pycharm": {
     "name": "#%% md\n"
    }
   }
  }
 ],
 "metadata": {
  "kernelspec": {
   "display_name": "Python 3",
   "language": "python",
   "name": "python3"
  },
  "language_info": {
   "codemirror_mode": {
    "name": "ipython",
    "version": 2
   },
   "file_extension": ".py",
   "mimetype": "text/x-python",
   "name": "python",
   "nbconvert_exporter": "python",
   "pygments_lexer": "ipython2",
   "version": "2.7.6"
  }
 },
 "nbformat": 4,
 "nbformat_minor": 0
}