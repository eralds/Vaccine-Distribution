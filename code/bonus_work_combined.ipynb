{
 "cells": [
  {
   "cell_type": "markdown",
   "metadata": {
    "pycharm": {
     "name": "#%% md\n"
    }
   },
   "source": [
    "# Data analysis of project for CS-A1155 - Databases for Data Science\n",
    "\n",
    "### Group 14: Benjamin Herman, Quoc Quang Ngo, Thinh Nguyen"
   ]
  },
  {
   "cell_type": "code",
   "execution_count": 1,
   "metadata": {
    "pycharm": {
     "name": "#%%\n"
    }
   },
   "outputs": [],
   "source": [
    "# import libraries\n",
    "import json\n",
    "import pandas as pd\n",
    "import matplotlib.pyplot as plt\n",
    "from sqlalchemy import create_engine, text\n",
    "import sqlalchemy\n",
    "from datetime import date\n",
    "import numpy as np\n",
    "from scipy import stats\n",
    "\n",
    "\n",
    "def conditional_commit():\n",
    "    \"\"\"Commit if major version number is greater than 1\"\"\"\n",
    "    if int(sqlalchemy.__version__.split('.')[0]) > 1:\n",
    "        psql_conn.commit()\n",
    "\n",
    "\n",
    "in_script = False\n",
    "cred_file = 'credentials.json'\n",
    "# cred_file = 'credentials.json'\n",
    "# use 'credentials.json' to connect to the remote database\n",
    "\n",
    "# Load a dictionary of credentials\n",
    "with open(cred_file) as fp:\n",
    "    creds = json.load(fp)\n",
    "\n",
    "db_url = 'postgresql+psycopg2://' + \\\n",
    "    '{user}:{password}@{host}:{port}/{database}'. \\\n",
    "    format(**creds)\n",
    "\n",
    "engine = create_engine(db_url)\n"
   ]
  },
  {
   "cell_type": "markdown",
   "metadata": {
    "pycharm": {
     "name": "#%% md\n"
    }
   },
   "source": [
    "### Data analysis"
   ]
  },
  {
   "cell_type": "markdown",
   "metadata": {
    "pycharm": {
     "name": "#%% md\n"
    }
   },
   "source": [
    "In this part, we further examined the analyses done in question 4,5 and 6 of project part 3 by visualizing the output data."
   ]
  },
  {
   "cell_type": "code",
   "execution_count": 2,
   "metadata": {
    "pycharm": {
     "name": "#%%\n"
    }
   },
   "outputs": [
    {
     "name": "stdout",
     "output_type": "stream",
     "text": [
      "datetime64[ns]\n",
      "            ssno                   name dateofbirth gender ageGroup\n",
      "0    841229-112N       Rodolfo O'Reilly  1984-12-29      M    20-40\n",
      "1    780214-1893  Prof. Erling Morar MD  1978-02-14      F    40-60\n",
      "2    950303-191X  Dr. Simeon Keeling II  1995-03-03      M    20-40\n",
      "3    730218-253D            Dereck Beer  1973-02-18      M    40-60\n",
      "4    971214-2818   Prof. Brice Metz PhD  1997-12-14      M    20-40\n",
      "..           ...                    ...         ...    ...      ...\n",
      "145  881210-971J        Brain Greenholt  1988-12-10      M    20-40\n",
      "146  110614-978B      Ms. Hanna Corkery  2011-06-14      F    10-20\n",
      "147  830908-9826               Ana Ward  1983-09-08      F    20-40\n",
      "148  080305-985A             Ricky Kuhn  2008-03-05      M    10-20\n",
      "149  011119-9865          Ahmad Kovacek  2001-11-19      M    20-40\n",
      "\n",
      "[150 rows x 5 columns]\n"
     ]
    }
   ],
   "source": [
    "## Add a new column 'agrGroup' to patient df \n",
    "with engine.connect() as psql_conn:\n",
    "    patients_df = pd.read_sql_table('patients', psql_conn)\n",
    "    print(patients_df['dateofbirth'].dtypes)\n",
    "    today = date.today()\n",
    "    patients_df['age'] = patients_df['dateofbirth'].apply(\n",
    "        lambda x: today.year - x.year - \n",
    "        ((today.month, today.day) < (x.month, x.day)))\n",
    "    \n",
    "    bins= [0,10,20,40,60,200]\n",
    "    labels = ['0-10','10-20','20-40','40-60','60+']\n",
    "    patients_df['ageGroup'] = pd.cut(patients_df['age'], bins=bins,\n",
    "                                     labels=labels, right=False)\n",
    "    patients_df = patients_df.drop(columns=['age'])\n",
    "    print(patients_df)\n",
    "    "
   ]
  },
  {
   "cell_type": "code",
   "execution_count": 3,
   "metadata": {
    "pycharm": {
     "name": "#%%\n"
    }
   },
   "outputs": [
    {
     "name": "stdout",
     "output_type": "stream",
     "text": [
      "            ssno                   name dateofbirth gender ageGroup  \\\n",
      "0    841229-112N       Rodolfo O'Reilly  1984-12-29      M    20-40   \n",
      "1    780214-1893  Prof. Erling Morar MD  1978-02-14      F    40-60   \n",
      "2    950303-191X  Dr. Simeon Keeling II  1995-03-03      M    20-40   \n",
      "3    730218-253D            Dereck Beer  1973-02-18      M    40-60   \n",
      "4    971214-2818   Prof. Brice Metz PhD  1997-12-14      M    20-40   \n",
      "..           ...                    ...         ...    ...      ...   \n",
      "145  881210-971J        Brain Greenholt  1988-12-10      M    20-40   \n",
      "146  110614-978B      Ms. Hanna Corkery  2011-06-14      F    10-20   \n",
      "147  830908-9826               Ana Ward  1983-09-08      F    20-40   \n",
      "148  080305-985A             Ricky Kuhn  2008-03-05      M    10-20   \n",
      "149  011119-9865          Ahmad Kovacek  2001-11-19      M    20-40   \n",
      "\n",
      "     vaccinationStatus  \n",
      "0                    2  \n",
      "1                    1  \n",
      "2                    1  \n",
      "3                    1  \n",
      "4                    1  \n",
      "..                 ...  \n",
      "145                  0  \n",
      "146                  0  \n",
      "147                  0  \n",
      "148                  0  \n",
      "149                  0  \n",
      "\n",
      "[150 rows x 6 columns]\n"
     ]
    }
   ],
   "source": [
    "# Add a new column 'vaccinationStatus'. \n",
    "# The value '0' represents 'not vaccinated', '1' for 'vaccinated once', and '2' for 'fully-vaccinated'.\n",
    "with engine.connect() as psql_conn:\n",
    "    statement = '''\n",
    "    -- the number of vaccines a patient has had so far\n",
    "    SELECT DISTINCT p.ssno As patientSsNo, COUNT(*) AS vaccinationstatus\n",
    "    FROM patients p\n",
    "    JOIN vaccinepatients vp ON p.ssno = vp.patientssno\n",
    "    GROUP BY p.ssno;\n",
    "        '''\n",
    "    result = psql_conn.execute(text(statement))\n",
    "    out = result.fetchall()\n",
    "    column_names = list(result.keys())\n",
    "    df = pd.DataFrame.from_records(out, columns=column_names)\n",
    "    output_string = df.to_string(index=False)\n",
    "    \n",
    "    merged_df = pd.merge(patients_df, df, left_on='ssno',\n",
    "                         right_on='patientssno',\n",
    "                         how='left').drop('patientssno', axis=1)\n",
    "    merged_df['vaccinationstatus'] = merged_df['vaccinationstatus'] \\\n",
    "        .fillna(0).astype('int64')\n",
    "    merged_df.rename({'vaccinationstatus': 'vaccinationStatus'},\n",
    "                     axis=1, inplace=True)\n",
    "    print(merged_df)\n",
    "    "
   ]
  },
  {
   "cell_type": "code",
   "execution_count": 4,
   "metadata": {
    "pycharm": {
     "name": "#%%\n"
    }
   },
   "outputs": [
    {
     "name": "stdout",
     "output_type": "stream",
     "text": [
      "ageGroup             0-10   10-20   20-40  40-60   60+\n",
      "vaccinationStatus                                     \n",
      "0                  57.14%  35.14%  32.69%  52.5%  0.0%\n",
      "1                  33.33%  56.76%  55.77%  45.0%  0.0%\n",
      "2                   9.52%   8.11%  11.54%   2.5%  0.0%\n"
     ]
    }
   ],
   "source": [
    "# A spreadsheet-style pivot table as a dataFrame is created and shows the percentage of patients \n",
    "# who have received zero, one, or two doses of vaccines by age group.\n",
    "\n",
    "with engine.connect() as psql_conn:\n",
    "    pivot_df = pd.pivot_table(merged_df, index='vaccinationStatus', \n",
    "                         values='ssno', \n",
    "                         columns='ageGroup',\n",
    "                         aggfunc='count')\n",
    "    \n",
    "    pivot_df['0-10'] = round((pivot_df['0-10']/pivot_df['0-10'].sum())*100, 2). \\\n",
    "                       fillna(0).astype(str) + '%'\n",
    "    pivot_df['10-20'] = round((pivot_df['10-20']/pivot_df['10-20'].sum())*100, 2). \\\n",
    "                        fillna(0).astype(str) + '%'\n",
    "    pivot_df['20-40'] = round((pivot_df['20-40']/pivot_df['20-40'].sum())*100, 2). \\\n",
    "                        fillna(0).astype(str) + '%'\n",
    "    pivot_df['40-60'] = round((pivot_df['40-60']/pivot_df['40-60'].sum())*100, 2). \\\n",
    "                        fillna(0).astype(str) + '%'\n",
    "    pivot_df['60+'] = round((pivot_df['60+']/pivot_df['60+'].sum())*100, 2). \\\n",
    "                      fillna(0).astype(str) + '%'\n",
    "    print(pivot_df)"
   ]
  },
  {
   "cell_type": "markdown",
   "metadata": {
    "pycharm": {
     "name": "#%% md\n"
    }
   },
   "source": [
    "#### Question 1: How does the vaccination progress look like for each age group compared to its total age group population?"
   ]
  },
  {
   "cell_type": "code",
   "execution_count": 5,
   "metadata": {
    "pycharm": {
     "name": "#%%\n"
    }
   },
   "outputs": [
    {
     "name": "stdout",
     "output_type": "stream",
     "text": [
      "ageGroup            0-10  10-20  20-40  40-60  60+\n",
      "vaccinationStatus                                 \n",
      "0                  57.14  35.14  32.69   52.5  0.0\n",
      "1                  33.33  56.76  55.77   45.0  0.0\n",
      "2                   9.52   8.11  11.54    2.5  0.0\n"
     ]
    },
    {
     "data": {
      "text/plain": "<Figure size 640x480 with 1 Axes>",
      "image/png": "[encoded data removed]"
     },
     "metadata": {},
     "output_type": "display_data"
    }
   ],
   "source": [
    "with engine.connect() as psql_conn:\n",
    "    df = pd.pivot_table(merged_df, index='vaccinationStatus', \n",
    "                         values='ssno', \n",
    "                         columns='ageGroup',\n",
    "                         aggfunc='count')\n",
    "    \n",
    "    df['0-10'] = round((df['0-10']/df['0-10'].sum())*100, 2). \\\n",
    "                       fillna(0)\n",
    "    df['10-20'] = round((df['10-20']/df['10-20'].sum())*100, 2). \\\n",
    "                        fillna(0)\n",
    "    df['20-40'] = round((df['20-40']/df['20-40'].sum())*100, 2). \\\n",
    "                        fillna(0)\n",
    "    df['40-60'] = round((df['40-60']/df['40-60'].sum())*100, 2). \\\n",
    "                        fillna(0)\n",
    "    df['60+'] = round((df['60+']/df['60+'].sum())*100, 2). \\\n",
    "                      fillna(0)\n",
    "    \n",
    "    print(df)\n",
    "    \n",
    "    df.plot(kind='bar')\n",
    "    plt.title('Vaccination status by patient age group')\n",
    "    plt.xlabel('Vaccination status')\n",
    "    plt.xticks(rotation = 0)\n",
    "    plt.ylabel('Percentage (%) of the age group')"
   ]
  },
  {
   "cell_type": "markdown",
   "metadata": {
    "pycharm": {
     "name": "#%% md\n"
    }
   },
   "source": [
    "The plot above illustrates the vaccination status in percentage of each patient age group compared to its group population. \n",
    "\n",
    "It is clear that there were no patients over 60 years old and the vaccination progress was not equal among age groups. Most children between 0 and 10 years old were either not vaccinated or vaccinated once with over 50% and one third of the total group size respectively. Similarly, slightly over half of the age group 40-60 did not receive any Corona vaccination, but the percentage of those who got vaccinated once was higher than the previously mentioned group by almost 12%. Groups of 10-20 youngsters and 20-40 people both show a higher percentage in the vaccinated once status with over 50%, followed by non-vaccinated status with approximately 33-35% of the total group population. In addition, the plot shows that the number of patients in each age group getting vaccinated twice was very small, compared to the total age group size. "
   ]
  },
  {
   "cell_type": "markdown",
   "metadata": {
    "pycharm": {
     "name": "#%% md\n"
    }
   },
   "source": [
    "#### Question 2: How does the vaccination progress look like for each age group compared to the total sample population?"
   ]
  },
  {
   "cell_type": "code",
   "execution_count": 6,
   "metadata": {
    "pycharm": {
     "name": "#%%\n"
    }
   },
   "outputs": [
    {
     "name": "stdout",
     "output_type": "stream",
     "text": [
      "ageGroup           0-10  10-20  20-40  40-60  60+\n",
      "vaccinationStatus                                \n",
      "0                  8.00   8.67  11.33  14.00  0.0\n",
      "1                  4.67  14.00  19.33  12.00  0.0\n",
      "2                  1.33   2.00   4.00   0.67  0.0\n"
     ]
    },
    {
     "data": {
      "text/plain": "<Figure size 640x480 with 1 Axes>",
      "image/png": "[encoded data removed]"
     },
     "metadata": {},
     "output_type": "display_data"
    }
   ],
   "source": [
    "with engine.connect() as psql_conn:\n",
    "    df2 = pd.pivot_table(merged_df, index='vaccinationStatus', \n",
    "                         values='ssno', \n",
    "                         columns='ageGroup',\n",
    "                         aggfunc='count')\n",
    "\n",
    "    df2['0-10'] = round((df2['0-10']/len(merged_df))*100, 2). \\\n",
    "                       fillna(0)\n",
    "    df2['10-20'] = round((df2['10-20']/len(merged_df))*100, 2). \\\n",
    "                        fillna(0)\n",
    "    df2['20-40'] = round((df2['20-40']/len(merged_df))*100, 2). \\\n",
    "                        fillna(0)\n",
    "    df2['40-60'] = round((df2['40-60']/len(merged_df))*100, 2). \\\n",
    "                        fillna(0)\n",
    "    df2['60+'] = round((df2['60+']/len(merged_df))*100, 2). \\\n",
    "                      fillna(0)\n",
    "    \n",
    "    print(df2)\n",
    "    df2.plot(kind='bar')\n",
    "    plt.title('Vaccination status by patient age group')\n",
    "    plt.xlabel('Vaccination status')\n",
    "    plt.xticks(rotation = 0)\n",
    "    plt.ylabel('Percentage (%) of total patients')"
   ]
  },
  {
   "cell_type": "markdown",
   "metadata": {
    "pycharm": {
     "name": "#%% md\n"
    }
   },
   "source": [
    "The plot above presents the vaccination status in percentage of each patient age group compared to the total population. According to this data visualization, there were no patients over 60 years old and the vaccination progress was not equal among age groups. \n",
    "\n",
    "In general, the majority of the population were either not vaccinated or vaccinated once with 92% in total. The highest percentage is found in the age group 20-40 with the vaccinated once status, followed by the age group 40-60 with the vaccinated once status and the age group 10-20 who did not get vaccinated. It can be also noted that the number of fully vaccinated people accounts for a very small portion in each age group. The highest portion can be seen in the age group 20-40 with 4% of the whole population. "
   ]
  },
  {
   "cell_type": "markdown",
   "metadata": {
    "pycharm": {
     "name": "#%% md\n"
    }
   },
   "source": [
    "#### Question 3: How does the vaccination progress look like for each gender and each age group?"
   ]
  },
  {
   "cell_type": "code",
   "execution_count": 7,
   "metadata": {
    "pycharm": {
     "name": "#%%\n"
    }
   },
   "outputs": [
    {
     "name": "stdout",
     "output_type": "stream",
     "text": [
      "ageGroup                  0-10  10-20  20-40  40-60  60+\n",
      "gender vaccinationStatus                                \n",
      "F      0                     7      7      5     10    0\n",
      "       1                     3     17     11      9    0\n",
      "       2                     2      0      1      1    0\n",
      "M      0                     5      6     12     11    0\n",
      "       1                     4      4     18      9    0\n",
      "       2                     0      3      5      0    0\n"
     ]
    },
    {
     "data": {
      "text/plain": "<Figure size 640x480 with 1 Axes>",
      "image/png": "[encoded data removed]"
     },
     "metadata": {},
     "output_type": "display_data"
    }
   ],
   "source": [
    "with engine.connect() as psql_conn:\n",
    "    df3 = pd.pivot_table(merged_df, index=['gender', 'vaccinationStatus'], \n",
    "                         values='ssno', \n",
    "                         columns='ageGroup',\n",
    "                         aggfunc='count')\n",
    "    print(df3)\n",
    "    \n",
    "    df3.plot(kind='bar')\n",
    "    plt.title('Vaccination status by patient gender and age group')\n",
    "    plt.xlabel('Vaccination status split by gender')\n",
    "    plt.xticks(rotation = 0)\n",
    "    plt.ylabel('Number of patients')"
   ]
  },
  {
   "cell_type": "markdown",
   "metadata": {
    "pycharm": {
     "name": "#%% md\n"
    }
   },
   "source": [
    "The plot above shows the vaccination status of each age group and patient gender. It is evident from this visualization that the vaccination progress varies among age groups and genders, even though both genders constitute an almost equal portion of the population. 17 female patients got vaccinated once and aged between 10 and 20, making this segment the largest in the female group followed by those with the same vaccination status but aged 20-40. In their counterpart group, the biggest group includes male patients between 20 and 40 with the vaccinated once status, followed by those in the same age group by not getting vaccinated yet."
   ]
  },
  {
   "cell_type": "markdown",
   "source": [
    "#### Question 4: Are symptom reports affected by vaccine type"
   ],
   "metadata": {
    "collapsed": false,
    "pycharm": {
     "name": "#%% md\n"
    }
   }
  },
  {
   "cell_type": "markdown",
   "source": [
    "This analysis uses the results of questions 1 and 2 of part 3 of the project, so we repeat the code from there, although this could be run without it as long as the database is still in place as modified by the code."
   ],
   "metadata": {
    "collapsed": false,
    "pycharm": {
     "name": "#%% md\n"
    }
   }
  },
  {
   "cell_type": "code",
   "execution_count": 8,
   "outputs": [],
   "source": [
    "with engine.connect() as psql_conn:\n",
    "    # 1.\n",
    "    diagnoses = pd.read_sql_table('diagnosis', psql_conn)\n",
    "    diagnoses.rename({'patient': 'ssno', 'reportdate': 'diagnosisdate'},\n",
    "                     axis=1, inplace=True)\n",
    "\n",
    "    patients = pd.read_sql_table('patients', psql_conn)\n",
    "    patients.drop('name', axis=1, inplace=True)\n",
    "\n",
    "    patientsymptoms = pd.merge(patients, diagnoses,\n",
    "                               on='ssno', how='right')\n",
    "\n",
    "    patientsymptoms = patientsymptoms[['ssno', 'gender', 'dateofbirth',\n",
    "                                       'symptom', 'diagnosisdate']]\n",
    "\n",
    "    patientsymptoms.to_sql('patientsymptoms', psql_conn,\n",
    "                           if_exists='replace', index=True)\n",
    "\n",
    "    conditional_commit()\n"
   ],
   "metadata": {
    "collapsed": false,
    "pycharm": {
     "name": "#%%\n"
    }
   }
  },
  {
   "cell_type": "code",
   "execution_count": 9,
   "outputs": [],
   "source": [
    "with engine.connect() as psql_conn:\n",
    "    # 2.\n",
    "    vaccpats = pd.read_sql_table('vaccinepatients', psql_conn)\n",
    "    vaccinations = pd.read_sql_table('vaccinations', psql_conn)\n",
    "    batches = pd.read_sql_table('vaccinebatch', psql_conn)\n",
    "\n",
    "    batches.drop(['numvaccines', 'manufacturer', 'dateproduced',\n",
    "                  'expirationdate', 'location'],\n",
    "                 axis=1, inplace=True)\n",
    "\n",
    "    vaccpats = pd.merge(vaccpats, vaccinations,\n",
    "                        on=('vaccinationdate', 'location'),\n",
    "                        how='left')\n",
    "\n",
    "    vaccpats = pd.merge(vaccpats, batches,\n",
    "                        on='batchid',\n",
    "                        how='left')\n",
    "\n",
    "    vaccpats.sort_values(by='vaccinationdate', inplace=True)\n",
    "\n",
    "    vaccpats.rename({'patientssno': 'ssno'}, inplace=True, axis=1)\n",
    "\n",
    "    nulls = [None] * patients.shape[0]\n",
    "    pvi = pd.concat([patients.ssno,\n",
    "                    pd.DataFrame({'date1': nulls,\n",
    "                                  'vaccinetype1': nulls,\n",
    "                                  'date2': nulls,\n",
    "                                  'vaccinetype2': nulls})],\n",
    "                    axis=1)\n",
    "\n",
    "    pvi.set_index('ssno', inplace=True)\n",
    "    for _, row in vaccpats.iterrows():\n",
    "        if pvi.isna().loc[row.ssno, 'date1']:\n",
    "            pvi.loc[row.ssno, 'date1'] = row.vaccinationdate\n",
    "            pvi.loc[row.ssno, 'vaccinetype1'] = row.vaccineid\n",
    "        elif pvi.isna().loc[row.ssno, 'date2']:\n",
    "            pvi.loc[row.ssno, 'date2'] = row.vaccinationdate\n",
    "            pvi.loc[row.ssno, 'vaccinetype2'] = row.vaccineid\n",
    "        else:\n",
    "            raise Exception('Third vaccination found')\n",
    "\n",
    "    pvi.reset_index(inplace=True)\n",
    "    pvi.to_sql('patientvaccineinfo', psql_conn,\n",
    "               if_exists='replace', index=True)\n",
    "\n",
    "    conditional_commit()"
   ],
   "metadata": {
    "collapsed": false,
    "pycharm": {
     "name": "#%%\n"
    }
   }
  },
  {
   "cell_type": "markdown",
   "source": [
    "\n",
    "We are interested in whether there is a difference in the tendency of vaccines to cause symptoms depending on which type of vaccine is given.  We look at data of information about what vaccines patients have received and what symptoms were reported."
   ],
   "metadata": {
    "collapsed": false,
    "pycharm": {
     "name": "#%% md\n"
    }
   }
  },
  {
   "cell_type": "code",
   "execution_count": 10,
   "outputs": [],
   "source": [
    "with engine.connect() as psql_conn:\n",
    "    pvi = pd.read_sql_table('patientvaccineinfo', psql_conn)\n",
    "    diagnoses = pd.read_sql_table('patientsymptoms', psql_conn)"
   ],
   "metadata": {
    "collapsed": false,
    "pycharm": {
     "name": "#%%\n"
    }
   }
  },
  {
   "cell_type": "markdown",
   "source": [
    "We take diagnoses only where they occur on or after the initial vaccination date"
   ],
   "metadata": {
    "collapsed": false,
    "pycharm": {
     "name": "#%% md\n"
    }
   }
  },
  {
   "cell_type": "code",
   "execution_count": 11,
   "outputs": [],
   "source": [
    "diag_and_vac_info = pd.merge(diagnoses, pvi, on='ssno', how='left')\n",
    "diag_and_vac_info = diag_and_vac_info[\n",
    "    pd.to_datetime(diag_and_vac_info.diagnosisdate)\n",
    "    >= pd.to_datetime(diag_and_vac_info.date1)]"
   ],
   "metadata": {
    "collapsed": false,
    "pycharm": {
     "name": "#%%\n"
    }
   }
  },
  {
   "cell_type": "markdown",
   "source": [
    "Examining the patient vaccine info where patients have received two doses:"
   ],
   "metadata": {
    "collapsed": false,
    "pycharm": {
     "name": "#%% md\n"
    }
   }
  },
  {
   "cell_type": "code",
   "execution_count": 12,
   "outputs": [
    {
     "data": {
      "text/plain": "     index         ssno      date1 vaccinetype1      date2 vaccinetype2\n0        0  841229-112N 2021-01-30          V01 2021-02-14          V03\n11      11  890104-753F 2021-01-30          V01 2021-02-14          V03\n15      15  840805-1135 2021-01-30          V01 2021-02-14          V03\n40      40  751211-287B 2021-01-30          V01 2021-02-14          V03\n44      44  060421-302M 2021-03-16          V01 2021-05-10          V02\n52      52  880810-358W 2021-01-30          V03 2021-02-14          V03\n60      60  090416-443L 2021-03-16          V01 2021-05-10          V02\n66      66  871128-519R 2021-03-16          V01 2021-05-10          V02\n68      68  010327-525G 2021-03-16          V01 2021-05-10          V02\n74      74  090226-5673 2021-03-16          V01 2021-05-10          V02\n79      79  160930-586P 2021-01-30          V01 2021-02-14          V03\n106    106  210318-737O 2021-03-16          V01 2021-05-10          V02",
      "text/html": "<div>\n<style scoped>\n    .dataframe tbody tr th:only-of-type {\n        vertical-align: middle;\n    }\n\n    .dataframe tbody tr th {\n        vertical-align: top;\n    }\n\n    .dataframe thead th {\n        text-align: right;\n    }\n</style>\n<table border=\"1\" class=\"dataframe\">\n  <thead>\n    <tr style=\"text-align: right;\">\n      <th></th>\n      <th>index</th>\n      <th>ssno</th>\n      <th>date1</th>\n      <th>vaccinetype1</th>\n      <th>date2</th>\n      <th>vaccinetype2</th>\n    </tr>\n  </thead>\n  <tbody>\n    <tr>\n      <th>0</th>\n      <td>0</td>\n      <td>841229-112N</td>\n      <td>2021-01-30</td>\n      <td>V01</td>\n      <td>2021-02-14</td>\n      <td>V03</td>\n    </tr>\n    <tr>\n      <th>11</th>\n      <td>11</td>\n      <td>890104-753F</td>\n      <td>2021-01-30</td>\n      <td>V01</td>\n      <td>2021-02-14</td>\n      <td>V03</td>\n    </tr>\n    <tr>\n      <th>15</th>\n      <td>15</td>\n      <td>840805-1135</td>\n      <td>2021-01-30</td>\n      <td>V01</td>\n      <td>2021-02-14</td>\n      <td>V03</td>\n    </tr>\n    <tr>\n      <th>40</th>\n      <td>40</td>\n      <td>751211-287B</td>\n      <td>2021-01-30</td>\n      <td>V01</td>\n      <td>2021-02-14</td>\n      <td>V03</td>\n    </tr>\n    <tr>\n      <th>44</th>\n      <td>44</td>\n      <td>060421-302M</td>\n      <td>2021-03-16</td>\n      <td>V01</td>\n      <td>2021-05-10</td>\n      <td>V02</td>\n    </tr>\n    <tr>\n      <th>52</th>\n      <td>52</td>\n      <td>880810-358W</td>\n      <td>2021-01-30</td>\n      <td>V03</td>\n      <td>2021-02-14</td>\n      <td>V03</td>\n    </tr>\n    <tr>\n      <th>60</th>\n      <td>60</td>\n      <td>090416-443L</td>\n      <td>2021-03-16</td>\n      <td>V01</td>\n      <td>2021-05-10</td>\n      <td>V02</td>\n    </tr>\n    <tr>\n      <th>66</th>\n      <td>66</td>\n      <td>871128-519R</td>\n      <td>2021-03-16</td>\n      <td>V01</td>\n      <td>2021-05-10</td>\n      <td>V02</td>\n    </tr>\n    <tr>\n      <th>68</th>\n      <td>68</td>\n      <td>010327-525G</td>\n      <td>2021-03-16</td>\n      <td>V01</td>\n      <td>2021-05-10</td>\n      <td>V02</td>\n    </tr>\n    <tr>\n      <th>74</th>\n      <td>74</td>\n      <td>090226-5673</td>\n      <td>2021-03-16</td>\n      <td>V01</td>\n      <td>2021-05-10</td>\n      <td>V02</td>\n    </tr>\n    <tr>\n      <th>79</th>\n      <td>79</td>\n      <td>160930-586P</td>\n      <td>2021-01-30</td>\n      <td>V01</td>\n      <td>2021-02-14</td>\n      <td>V03</td>\n    </tr>\n    <tr>\n      <th>106</th>\n      <td>106</td>\n      <td>210318-737O</td>\n      <td>2021-03-16</td>\n      <td>V01</td>\n      <td>2021-05-10</td>\n      <td>V02</td>\n    </tr>\n  </tbody>\n</table>\n</div>"
     },
     "execution_count": 12,
     "metadata": {},
     "output_type": "execute_result"
    }
   ],
   "source": [
    "pvi[pvi.vaccinetype2.notna()]"
   ],
   "metadata": {
    "collapsed": false,
    "pycharm": {
     "name": "#%%\n"
    }
   }
  },
  {
   "cell_type": "markdown",
   "source": [
    "We see that there are only 12 patients that have received two doses, and usually they are of different types.  So we only look at patients who received a first and only a first dose and compute the number of symptoms that were reported for each patient."
   ],
   "metadata": {
    "collapsed": false,
    "pycharm": {
     "name": "#%% md\n"
    }
   }
  },
  {
   "cell_type": "code",
   "execution_count": 13,
   "outputs": [],
   "source": [
    "\n",
    "# take only rows where patient did not receive a second dose\n",
    "pvi = pvi[pvi.date2.isna()]\n",
    "\n",
    "# remove rows where patient did not receive a first dose\n",
    "pvi = pvi.dropna(subset=['date1'])[['ssno', 'date1', 'vaccinetype1']]\n"
   ],
   "metadata": {
    "collapsed": false,
    "pycharm": {
     "name": "#%%\n"
    }
   }
  },
  {
   "cell_type": "code",
   "execution_count": 14,
   "outputs": [],
   "source": [
    "# get counts of diagnoses for each patient\n",
    "grps = diag_and_vac_info.groupby('ssno')\n",
    "counts = grps.count().rename({'index_x': 'count_'}, axis=1) \\\n",
    "    .reset_index()[['ssno', 'count_']]\n",
    "\n",
    "type_counts = pd.merge(pvi, counts, on='ssno', how='left')\n",
    "\n",
    "type_counts['count_'] = type_counts.count_.fillna(0)\n"
   ],
   "metadata": {
    "collapsed": false,
    "pycharm": {
     "name": "#%%\n"
    }
   }
  },
  {
   "cell_type": "markdown",
   "source": [
    "We take a look at the data."
   ],
   "metadata": {
    "collapsed": false,
    "pycharm": {
     "name": "#%% md\n"
    }
   }
  },
  {
   "cell_type": "code",
   "execution_count": 15,
   "outputs": [
    {
     "data": {
      "text/plain": "           ssno      date1 vaccinetype1  count_\n0   780214-1893 2021-01-30          V01     1.0\n1   950303-191X 2021-02-14          V03     2.0\n2   730218-253D 2021-03-16          V01     3.0\n3   971214-2818 2021-02-14          V03     1.0\n4   060325-323X 2021-01-30          V03     4.0\n..          ...        ...          ...     ...\n70  850310-787I 2021-05-10          V01     3.0\n71  090602-7898 2021-05-10          V02     0.0\n72  041113-8113 2021-05-10          V02     1.0\n73  090518-869W 2021-05-10          V02     1.0\n74  741222-8947 2021-05-10          V02     0.0\n\n[75 rows x 4 columns]",
      "text/html": "<div>\n<style scoped>\n    .dataframe tbody tr th:only-of-type {\n        vertical-align: middle;\n    }\n\n    .dataframe tbody tr th {\n        vertical-align: top;\n    }\n\n    .dataframe thead th {\n        text-align: right;\n    }\n</style>\n<table border=\"1\" class=\"dataframe\">\n  <thead>\n    <tr style=\"text-align: right;\">\n      <th></th>\n      <th>ssno</th>\n      <th>date1</th>\n      <th>vaccinetype1</th>\n      <th>count_</th>\n    </tr>\n  </thead>\n  <tbody>\n    <tr>\n      <th>0</th>\n      <td>780214-1893</td>\n      <td>2021-01-30</td>\n      <td>V01</td>\n      <td>1.0</td>\n    </tr>\n    <tr>\n      <th>1</th>\n      <td>950303-191X</td>\n      <td>2021-02-14</td>\n      <td>V03</td>\n      <td>2.0</td>\n    </tr>\n    <tr>\n      <th>2</th>\n      <td>730218-253D</td>\n      <td>2021-03-16</td>\n      <td>V01</td>\n      <td>3.0</td>\n    </tr>\n    <tr>\n      <th>3</th>\n      <td>971214-2818</td>\n      <td>2021-02-14</td>\n      <td>V03</td>\n      <td>1.0</td>\n    </tr>\n    <tr>\n      <th>4</th>\n      <td>060325-323X</td>\n      <td>2021-01-30</td>\n      <td>V03</td>\n      <td>4.0</td>\n    </tr>\n    <tr>\n      <th>...</th>\n      <td>...</td>\n      <td>...</td>\n      <td>...</td>\n      <td>...</td>\n    </tr>\n    <tr>\n      <th>70</th>\n      <td>850310-787I</td>\n      <td>2021-05-10</td>\n      <td>V01</td>\n      <td>3.0</td>\n    </tr>\n    <tr>\n      <th>71</th>\n      <td>090602-7898</td>\n      <td>2021-05-10</td>\n      <td>V02</td>\n      <td>0.0</td>\n    </tr>\n    <tr>\n      <th>72</th>\n      <td>041113-8113</td>\n      <td>2021-05-10</td>\n      <td>V02</td>\n      <td>1.0</td>\n    </tr>\n    <tr>\n      <th>73</th>\n      <td>090518-869W</td>\n      <td>2021-05-10</td>\n      <td>V02</td>\n      <td>1.0</td>\n    </tr>\n    <tr>\n      <th>74</th>\n      <td>741222-8947</td>\n      <td>2021-05-10</td>\n      <td>V02</td>\n      <td>0.0</td>\n    </tr>\n  </tbody>\n</table>\n<p>75 rows × 4 columns</p>\n</div>"
     },
     "execution_count": 15,
     "metadata": {},
     "output_type": "execute_result"
    }
   ],
   "source": [
    "type_counts"
   ],
   "metadata": {
    "collapsed": false,
    "pycharm": {
     "name": "#%%\n"
    }
   }
  },
  {
   "cell_type": "code",
   "execution_count": 16,
   "outputs": [
    {
     "data": {
      "text/plain": "V03    30\nV01    24\nV02    21\nName: vaccinetype1, dtype: int64"
     },
     "execution_count": 16,
     "metadata": {},
     "output_type": "execute_result"
    }
   ],
   "source": [
    "type_counts.vaccinetype1.value_counts()"
   ],
   "metadata": {
    "collapsed": false,
    "pycharm": {
     "name": "#%%\n"
    }
   }
  },
  {
   "cell_type": "markdown",
   "source": [
    "We would like to use scipy.stats's f_oneway function to perform an ANOVA analysis.  This requires that variances are equal and that either data is normally distributed or there are a lot of data points.  Clearly there are not many data points, so we look to see if the data might be approximately normally distributed by looking at histograms."
   ],
   "metadata": {
    "collapsed": false,
    "pycharm": {
     "name": "#%% md\n"
    }
   }
  },
  {
   "cell_type": "code",
   "execution_count": 17,
   "outputs": [
    {
     "data": {
      "text/plain": "<Figure size 640x480 with 3 Axes>",
      "image/png": "[encoded data removed]"
     },
     "metadata": {},
     "output_type": "display_data"
    }
   ],
   "source": [
    "counts_v01 = type_counts.count_[type_counts.vaccinetype1 == 'V01']\n",
    "counts_v02 = type_counts.count_[type_counts.vaccinetype1 == 'V02']\n",
    "counts_v03 = type_counts.count_[type_counts.vaccinetype1 == 'V03']\n",
    "\n",
    "\n",
    "def add_text_axis_coord(ax, x, y, s, **kwargs):\n",
    "    x1, x2 = ax.get_xlim()\n",
    "    y1, y2 = ax.get_ylim()\n",
    "    xd = x1 + (x2 - x1)*x\n",
    "    yd = y1 + (y2 - y1)*y\n",
    "    return ax.text(xd, yd, s, **kwargs)\n",
    "\n",
    "\n",
    "fig, axes = plt.subplots(3, 1)\n",
    "labels = ['V01', 'V02', 'V03']\n",
    "\n",
    "bins = np.linspace(-0.5, 4.5, 6)\n",
    "\n",
    "_ = counts_v01.hist(ax=axes[0], bins=bins)\n",
    "_ = counts_v02.hist(ax=axes[1], bins=bins)\n",
    "_ = counts_v03.hist(ax=axes[2], bins=bins)\n",
    "\n",
    "for ax, lab in zip(axes, labels):\n",
    "    _ = add_text_axis_coord(ax, 0.8, 0.8, lab)\n"
   ],
   "metadata": {
    "collapsed": false,
    "pycharm": {
     "name": "#%%\n"
    }
   }
  },
  {
   "cell_type": "markdown",
   "source": [
    "It looks like there might be a difference in the effects between V03 and the other data. However, obviously these data are not normally distributed, so we must abandon our original approach.   Instead, we convert our data to binary, where 1 represents the case where the number of symptom reports is greater than zero, and 0 represents no symptoms being reported.  We then perform pairwise comparisons using the two-sample proportion test, where for any pair of samples, the null hypothesis is that probabilities of a 1 occurring are equal.  Since the probability for at least one type I error among the three combinations is increased, we must adjust the required p-value to be one third of the prescribed significance level, which we chose to be 0.05 as is typically done.  That is, we apply the Bonferroni correction and look for p-values less than 0.01667."
   ],
   "metadata": {
    "collapsed": false,
    "pycharm": {
     "name": "#%% md\n"
    }
   }
  },
  {
   "cell_type": "code",
   "execution_count": 18,
   "outputs": [
    {
     "name": "stdout",
     "output_type": "stream",
     "text": [
      "p-value = 0.2002590712500678\n",
      "p-value = 0.13412008326379768\n",
      "p-value = 0.873351235048516\n"
     ]
    }
   ],
   "source": [
    "def two_sample_proportion_test(X, Y):\n",
    "    \"\"\"\n",
    "    Returns the p-value from a two-sample proportion test.\n",
    "    This is based on lecture slides from the course:\n",
    "    MS-C1620 Statistical Inference at Aalto University in Spring 2023\n",
    "    taught by Jukka Kohonen.\n",
    "    :param X: One sample of binary data\n",
    "    :param Y: Another sample of binary data\n",
    "    :return: p-value\n",
    "    \"\"\"\n",
    "    assert X.apply(lambda u: u in {0, 1}).all()\n",
    "    assert Y.apply(lambda u: u in {0, 1}).all()\n",
    "    n = len(X)\n",
    "    m = len(Y)\n",
    "    sx = X.sum()\n",
    "    sy = Y.sum()\n",
    "\n",
    "    theta_x = sx/n\n",
    "    theta_y = sy/m\n",
    "\n",
    "    theta = (sx + sy) / (n + m)\n",
    "\n",
    "    Z = (theta_x - theta_y) \\\n",
    "        / np.sqrt(theta * (1 - theta) * (1 / n + 1 / m))\n",
    "\n",
    "    warning_message = 'Results are not statistically accurate'\n",
    "    if n * theta_x <= 5:\n",
    "        print(f'Warning n * theta_hat_x <= 5.  {warning_message}')\n",
    "    if n * (1 - theta_x) <= 5:\n",
    "        print(f'Warning n * (1 - theta_hat_x) <= 5.  {warning_message}')\n",
    "    if m * theta_y <= 5:\n",
    "        print(f'Warning m * theta_hat_y <= 5.  {warning_message}')\n",
    "    if m * (1 - theta_y) <= 5:\n",
    "        print(f'Warning m * (1 - theta_hat_y) <= 5.  {warning_message}')\n",
    "\n",
    "    p = 2 * stats.norm().cdf(-np.abs(Z))\n",
    "    return p\n",
    "\n",
    "p = two_sample_proportion_test(1 * (counts_v03 > 0),\n",
    "                               1 * (counts_v02 > 0))\n",
    "\n",
    "print(f'p-value = {p}')\n",
    "\n",
    "p = two_sample_proportion_test(1 * (counts_v03 > 0),\n",
    "                               1 * (counts_v01 > 0))\n",
    "\n",
    "print(f'p-value = {p}')\n",
    "\n",
    "p = two_sample_proportion_test(1 * (counts_v02 > 0),\n",
    "                               1 * (counts_v01 > 0))\n",
    "\n",
    "print(f'p-value = {p}')"
   ],
   "metadata": {
    "collapsed": false,
    "pycharm": {
     "name": "#%%\n"
    }
   }
  },
  {
   "cell_type": "markdown",
   "source": [
    "While it did look like there might be a difference of symptoms depending on vaccine type, there is not enough evidence to rule out that this might have occurred by chance."
   ],
   "metadata": {
    "collapsed": false,
    "pycharm": {
     "name": "#%% md\n"
    }
   }
  }
 ],
 "metadata": {
  "kernelspec": {
   "display_name": "Python 3 (ipykernel)",
   "language": "python",
   "name": "python3"
  },
  "language_info": {
   "codemirror_mode": {
    "name": "ipython",
    "version": 3
   },
   "file_extension": ".py",
   "mimetype": "text/x-python",
   "name": "python",
   "nbconvert_exporter": "python",
   "pygments_lexer": "ipython3",
   "version": "3.9.1"
  }
 },
 "nbformat": 4,
 "nbformat_minor": 1
}