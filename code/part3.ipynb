{
 "cells": [
  {
   "cell_type": "markdown",
   "metadata": {},
   "source": [
    "# Data analysis of project for CS-A1155 - Databases for Data Science\n",
    "\n",
    "### Group 14: Benjamin Herman, Quoc Quang Ngo, Thinh Nguyen"
   ]
  },
  {
   "cell_type": "code",
   "execution_count": 2,
   "metadata": {},
   "outputs": [],
   "source": [
    "# import libraries\n",
    "import json\n",
    "import pandas as pd\n",
    "import matplotlib.pyplot as plt\n",
    "from sqlalchemy import create_engine, text\n",
    "import sqlalchemy\n",
    "from datetime import date\n",
    "\n",
    "\n",
    "def conditional_commit():\n",
    "    \"\"\"Commit if major version number is greater than 1\"\"\"\n",
    "    if int(sqlalchemy.__version__.split('.')[0]) > 1:\n",
    "        psql_conn.commit()\n",
    "\n",
    "\n",
    "in_script = False\n",
    "cred_file = 'credentials.json'\n",
    "# cred_file = 'credentials.json'\n",
    "# use 'credentials.json' to connect to the remote database\n",
    "\n",
    "# Load a dictionary of credentials\n",
    "with open(cred_file) as fp:\n",
    "    creds = json.load(fp)\n",
    "\n",
    "db_url = 'postgresql+psycopg2://' + \\\n",
    "    '{user}:{password}@{host}:{port}/{database}'. \\\n",
    "    format(**creds)\n",
    "\n",
    "engine = create_engine(db_url)\n"
   ]
  },
  {
   "cell_type": "markdown",
   "metadata": {},
   "source": [
    "**Question 1**"
   ]
  },
  {
   "cell_type": "code",
   "execution_count": 3,
   "metadata": {
    "ExecuteTime": {
     "end_time": "2023-06-13T14:46:24.179664Z",
     "start_time": "2023-06-13T14:46:22.782778Z"
    }
   },
   "outputs": [],
   "source": [
    "\n",
    "with engine.connect() as psql_conn:\n",
    "    # 1.\n",
    "    diagnoses = pd.read_sql_table('diagnosis', psql_conn)\n",
    "    diagnoses.rename({'patient': 'ssno', 'reportdate': 'diagnosisdate'},\n",
    "                     axis=1, inplace=True)\n",
    "\n",
    "    patients = pd.read_sql_table('patients', psql_conn)\n",
    "    patients.drop('name', axis=1, inplace=True)\n",
    "\n",
    "    patientsymptoms = pd.merge(patients, diagnoses,\n",
    "                               on='ssno', how='right')\n",
    "\n",
    "    patientsymptoms = patientsymptoms[['ssno', 'gender', 'dateofbirth',\n",
    "                                       'symptom', 'diagnosisdate']]\n",
    "\n",
    "    patientsymptoms.to_sql('patientsymptoms', psql_conn,\n",
    "                           if_exists='replace', index=True)\n",
    "\n",
    "    conditional_commit()\n"
   ]
  },
  {
   "cell_type": "markdown",
   "metadata": {},
   "source": [
    "**Question 2**"
   ]
  },
  {
   "cell_type": "code",
   "execution_count": 4,
   "metadata": {
    "ExecuteTime": {
     "end_time": "2023-06-13T14:46:26.968521Z",
     "start_time": "2023-06-13T14:46:24.185664Z"
    }
   },
   "outputs": [],
   "source": [
    "with engine.connect() as psql_conn:\n",
    "    # 2.\n",
    "    vaccpats = pd.read_sql_table('vaccinepatients', psql_conn)\n",
    "    vaccinations = pd.read_sql_table('vaccinations', psql_conn)\n",
    "    batches = pd.read_sql_table('vaccinebatch', psql_conn)\n",
    "\n",
    "    batches.drop(['numvaccines', 'manufacturer', 'dateproduced',\n",
    "                  'expirationdate', 'location'],\n",
    "                 axis=1, inplace=True)\n",
    "\n",
    "    vaccpats = pd.merge(vaccpats, vaccinations,\n",
    "                        on=('vaccinationdate', 'location'),\n",
    "                        how='left')\n",
    "\n",
    "    vaccpats = pd.merge(vaccpats, batches,\n",
    "                        on='batchid',\n",
    "                        how='left')\n",
    "\n",
    "    vaccpats.sort_values(by='vaccinationdate', inplace=True)\n",
    "\n",
    "    vaccpats.rename({'patientssno': 'ssno'}, inplace=True, axis=1)\n",
    "\n",
    "    nulls = [None] * patients.shape[0]\n",
    "    pvi = pd.concat([patients.ssno,\n",
    "                    pd.DataFrame({'date1': nulls,\n",
    "                                  'vaccinetype1': nulls,\n",
    "                                  'date2': nulls,\n",
    "                                  'vaccinetype2': nulls})],\n",
    "                    axis=1)\n",
    "\n",
    "    pvi.set_index('ssno', inplace=True)\n",
    "    for _, row in vaccpats.iterrows():\n",
    "        if pvi.isna().loc[row.ssno, 'date1']:\n",
    "            pvi.loc[row.ssno, 'date1'] = row.vaccinationdate\n",
    "            pvi.loc[row.ssno, 'vaccinetype1'] = row.vaccineid\n",
    "        elif pvi.isna().loc[row.ssno, 'date2']:\n",
    "            pvi.loc[row.ssno, 'date2'] = row.vaccinationdate\n",
    "            pvi.loc[row.ssno, 'vaccinetype2'] = row.vaccineid\n",
    "        else:\n",
    "            raise Exception('Third vaccination found')\n",
    "\n",
    "    pvi.reset_index(inplace=True)\n",
    "    pvi.to_sql('patientvaccineinfo', psql_conn,\n",
    "               if_exists='replace', index=True)\n",
    "\n",
    "    conditional_commit()"
   ]
  },
  {
   "cell_type": "markdown",
   "metadata": {},
   "source": [
    "**Question 3**"
   ]
  },
  {
   "cell_type": "code",
   "execution_count": 5,
   "metadata": {
    "ExecuteTime": {
     "end_time": "2023-06-13T14:46:27.257393Z",
     "start_time": "2023-06-13T14:46:26.970518Z"
    }
   },
   "outputs": [
    {
     "name": "stdout",
     "output_type": "stream",
     "text": [
      "\n",
      "Top three symptoms in males\n",
      "joint pain     10\n",
      "muscle ache     7\n",
      "fever           6\n",
      "Name: symptom, dtype: int64\n",
      "\n",
      "\n",
      "Top three symptoms in females\n",
      "muscle ache            8\n",
      "headache               7\n",
      "feelings of illness    4\n",
      "Name: symptom, dtype: int64\n",
      "\n"
     ]
    }
   ],
   "source": [
    "with engine.connect() as psql_conn:\n",
    "    # 3.\n",
    "    patientsymptoms = pd.read_sql_table('patientsymptoms', psql_conn)\n",
    "\n",
    "    patientsymptoms_m = patientsymptoms[patientsymptoms.gender == 'M']\n",
    "    patientsymptoms_f = patientsymptoms[patientsymptoms.gender == 'F']\n",
    "\n",
    "    print()\n",
    "    print('Top three symptoms in males')\n",
    "    print(patientsymptoms_m.symptom.value_counts()[:3])\n",
    "    print()\n",
    "    print()\n",
    "    print('Top three symptoms in females')\n",
    "    print(patientsymptoms_f.symptom.value_counts()[:3])\n",
    "    print()\n"
   ]
  },
  {
   "cell_type": "markdown",
   "metadata": {},
   "source": [
    "**Question 4**"
   ]
  },
  {
   "cell_type": "code",
   "execution_count": 6,
   "metadata": {
    "ExecuteTime": {
     "end_time": "2023-06-13T14:46:27.554439Z",
     "start_time": "2023-06-13T14:46:27.256392Z"
    }
   },
   "outputs": [
    {
     "name": "stdout",
     "output_type": "stream",
     "text": [
      "datetime64[ns]\n",
      "            ssno                   name dateofbirth gender ageGroup\n",
      "0    841229-112N       Rodolfo O'Reilly  1984-12-29      M    20-40\n",
      "1    780214-1893  Prof. Erling Morar MD  1978-02-14      F    40-60\n",
      "2    950303-191X  Dr. Simeon Keeling II  1995-03-03      M    20-40\n",
      "3    730218-253D            Dereck Beer  1973-02-18      M    40-60\n",
      "4    971214-2818   Prof. Brice Metz PhD  1997-12-14      M    20-40\n",
      "..           ...                    ...         ...    ...      ...\n",
      "145  881210-971J        Brain Greenholt  1988-12-10      M    20-40\n",
      "146  110614-978B      Ms. Hanna Corkery  2011-06-14      F    10-20\n",
      "147  830908-9826               Ana Ward  1983-09-08      F    20-40\n",
      "148  080305-985A             Ricky Kuhn  2008-03-05      M    10-20\n",
      "149  011119-9865          Ahmad Kovacek  2001-11-19      M    20-40\n",
      "\n",
      "[150 rows x 5 columns]\n"
     ]
    }
   ],
   "source": [
    "with engine.connect() as psql_conn:\n",
    "    # 4.\n",
    "    patients_df = pd.read_sql_table('patients', psql_conn)\n",
    "    print(patients_df['dateofbirth'].dtypes)\n",
    "    today = date.today()\n",
    "    patients_df['age'] = patients_df['dateofbirth'].apply(\n",
    "        lambda x: today.year - x.year - \n",
    "        ((today.month, today.day) < (x.month, x.day)))\n",
    "    \n",
    "    bins= [0,10,20,40,60,200]\n",
    "    labels = ['0-10','10-20','20-40','40-60','60+']\n",
    "    patients_df['ageGroup'] = pd.cut(patients_df['age'], bins=bins,\n",
    "                                     labels=labels, right=False)\n",
    "    patients_df = patients_df.drop(columns=['age'])\n",
    "    print(patients_df)\n"
   ]
  },
  {
   "cell_type": "markdown",
   "metadata": {},
   "source": [
    "A new column 'ageGroup' is added to the dataframe. Age calculation is done\n",
    "by finding the difference between today and a person's date of birth. Leap\n",
    "years are also considered in the calculation to ensure that special days\n",
    "like February 29 do not affect the results."
   ]
  },
  {
   "cell_type": "markdown",
   "metadata": {},
   "source": [
    "**Question 5**"
   ]
  },
  {
   "cell_type": "code",
   "execution_count": 7,
   "metadata": {
    "ExecuteTime": {
     "end_time": "2023-06-13T14:46:27.623063Z",
     "start_time": "2023-06-13T14:46:27.556439Z"
    }
   },
   "outputs": [
    {
     "name": "stdout",
     "output_type": "stream",
     "text": [
      "            ssno                   name dateofbirth gender ageGroup  \\\n",
      "0    841229-112N       Rodolfo O'Reilly  1984-12-29      M    20-40   \n",
      "1    780214-1893  Prof. Erling Morar MD  1978-02-14      F    40-60   \n",
      "2    950303-191X  Dr. Simeon Keeling II  1995-03-03      M    20-40   \n",
      "3    730218-253D            Dereck Beer  1973-02-18      M    40-60   \n",
      "4    971214-2818   Prof. Brice Metz PhD  1997-12-14      M    20-40   \n",
      "..           ...                    ...         ...    ...      ...   \n",
      "145  881210-971J        Brain Greenholt  1988-12-10      M    20-40   \n",
      "146  110614-978B      Ms. Hanna Corkery  2011-06-14      F    10-20   \n",
      "147  830908-9826               Ana Ward  1983-09-08      F    20-40   \n",
      "148  080305-985A             Ricky Kuhn  2008-03-05      M    10-20   \n",
      "149  011119-9865          Ahmad Kovacek  2001-11-19      M    20-40   \n",
      "\n",
      "     vaccinationStatus  \n",
      "0                    2  \n",
      "1                    1  \n",
      "2                    1  \n",
      "3                    1  \n",
      "4                    1  \n",
      "..                 ...  \n",
      "145                  0  \n",
      "146                  0  \n",
      "147                  0  \n",
      "148                  0  \n",
      "149                  0  \n",
      "\n",
      "[150 rows x 6 columns]\n"
     ]
    }
   ],
   "source": [
    "with engine.connect() as psql_conn:\n",
    "    # 5\n",
    "    statement = '''\n",
    "    -- the number of vaccines a patient has had so far\n",
    "    SELECT DISTINCT p.ssno As patientSsNo, COUNT(*) AS vaccinationstatus\n",
    "    FROM patients p\n",
    "    JOIN vaccinepatients vp ON p.ssno = vp.patientssno\n",
    "    GROUP BY p.ssno;\n",
    "        '''\n",
    "    result = psql_conn.execute(text(statement))\n",
    "    out = result.fetchall()\n",
    "    column_names = list(result.keys())\n",
    "    df = pd.DataFrame.from_records(out, columns=column_names)\n",
    "    output_string = df.to_string(index=False)\n",
    "    \n",
    "    merged_df = pd.merge(patients_df, df, left_on='ssno',\n",
    "                         right_on='patientssno',\n",
    "                         how='left').drop('patientssno', axis=1)\n",
    "    merged_df['vaccinationstatus'] = merged_df['vaccinationstatus'] \\\n",
    "        .fillna(0).astype('int64')\n",
    "    merged_df.rename({'vaccinationstatus': 'vaccinationStatus'},\n",
    "                     axis=1, inplace=True)\n",
    "    print(merged_df)\n",
    "    "
   ]
  },
  {
   "cell_type": "markdown",
   "metadata": {},
   "source": [
    "A new column 'vaccinationStatus' is added to the dataframe.\n",
    "The value '0' represents 'not vaccinated', '1' for 'vaccinated once',\n",
    "and '2' for 'fully-vaccinated'."
   ]
  },
  {
   "cell_type": "markdown",
   "metadata": {},
   "source": [
    "**Question 6**"
   ]
  },
  {
   "cell_type": "code",
   "execution_count": 8,
   "metadata": {
    "ExecuteTime": {
     "end_time": "2023-06-13T14:46:27.637063Z",
     "start_time": "2023-06-13T14:46:27.630065Z"
    }
   },
   "outputs": [
    {
     "name": "stdout",
     "output_type": "stream",
     "text": [
      "ageGroup             0-10   10-20   20-40  40-60   60+\n",
      "vaccinationStatus                                     \n",
      "0                  57.14%  35.14%  32.69%  52.5%  0.0%\n",
      "1                  33.33%  56.76%  55.77%  45.0%  0.0%\n",
      "2                   9.52%   8.11%  11.54%   2.5%  0.0%\n"
     ]
    }
   ],
   "source": [
    "with engine.connect() as psql_conn:\n",
    "    # 6\n",
    "    df2 = pd.pivot_table(merged_df, index='vaccinationStatus', \n",
    "                         values='ssno', \n",
    "                         columns='ageGroup',\n",
    "                         aggfunc='count')\n",
    "    \n",
    "    df2['0-10'] = round((df2['0-10']/df2['0-10'].sum())*100, 2). \\\n",
    "                       fillna(0).astype(str) + '%'\n",
    "    df2['10-20'] = round((df2['10-20']/df2['10-20'].sum())*100, 2). \\\n",
    "                        fillna(0).astype(str) + '%'\n",
    "    df2['20-40'] = round((df2['20-40']/df2['20-40'].sum())*100, 2). \\\n",
    "                        fillna(0).astype(str) + '%'\n",
    "    df2['40-60'] = round((df2['40-60']/df2['40-60'].sum())*100, 2). \\\n",
    "                        fillna(0).astype(str) + '%'\n",
    "    df2['60+'] = round((df2['60+']/df2['60+'].sum())*100, 2). \\\n",
    "                      fillna(0).astype(str) + '%'\n",
    "    print(df2)"
   ]
  },
  {
   "cell_type": "markdown",
   "metadata": {},
   "source": [
    "A spreadsheet-style pivot table as a dataFrame is created and shows\n",
    "the percentage of patients who have received zero, one, or two doses\n",
    "of vaccines by age group. It is noteworthy that there are no patients\n",
    "who age over 60 in the sample data and therefore the age group 60+\n",
    "has no vaccination status data."
   ]
  },
  {
   "cell_type": "markdown",
   "metadata": {},
   "source": [
    "**Question 7**"
   ]
  },
  {
   "cell_type": "code",
   "execution_count": 9,
   "metadata": {
    "ExecuteTime": {
     "end_time": "2023-06-13T14:46:27.736386Z",
     "start_time": "2023-06-13T14:46:27.641066Z"
    }
   },
   "outputs": [
    {
     "name": "stdout",
     "output_type": "stream",
     "text": [
      "                        symptom          V01          V02          V03\n",
      "0                   muscle ache  very common  very common       common\n",
      "1                    joint pain  very common       common         rare\n",
      "2                      headache  very common         rare  very common\n",
      "3                        nausea  very common         rare            -\n",
      "4      itchiness near injection       common            -            -\n",
      "5                         fever       common         rare       common\n",
      "6         warmth near injection       common            -            -\n",
      "7                    high fever       common         rare         rare\n",
      "8                      diarrhea         rare            -         rare\n",
      "9                      vomiting         rare         rare            -\n",
      "10          feelings of illness         rare       common            -\n",
      "11  inflammation near injection         rare            -         rare\n",
      "12                      fatigue         rare         rare         rare\n",
      "13                   chest pain         rare            -         rare\n",
      "14           blurring of vision         rare            -            -\n",
      "15                       chills         rare         rare            -\n",
      "16               lymfadenopathy            -         rare            -\n",
      "17          pain near injection            -            -         rare\n",
      "18                  anaphylaxia            -            -         rare\n"
     ]
    }
   ],
   "source": [
    "with engine.connect() as psql_conn:\n",
    "    sql = \"\"\"\n",
    "    select vt.id, d.symptom, count(d.symptom) as count,\n",
    "    round(cast(count(d.symptom) AS Numeric)/\n",
    "          cast(vaccinationcount AS Numeric),2) as frequency\n",
    "from vaccinetype vt\n",
    "left join vaccinebatch vb on vb.vaccineid = vt.id\n",
    "left join vaccinations v on v.batchid = vb.batchid\n",
    "left join vaccinepatients vp on v.vaccinationdate = v.vaccinationdate\n",
    "    and v.location = vp.location\n",
    "left join diagnosis d on d.patient = vp.patientssno,\n",
    "(select vt.id, count(vt.id) as vaccinationcount\n",
    "\tfrom vaccinetype vt\n",
    "\tleft join vaccinebatch vb on vb.vaccineid = vt.id\n",
    "\tleft join vaccinations v on v.batchid = vb.batchid\n",
    "\tleft join vaccinepatients vp\n",
    "\t    on v.vaccinationdate = v.vaccinationdate\n",
    "\t    and v.location = vp.location\n",
    "\tgroup by vt.id\n",
    ") AS vaccinationcases\n",
    "where d.reportdate::date >= v.vaccinationdate\n",
    "    and vaccinationcases.id = vt.id\n",
    "group by d.symptom, vt.id, vaccinationcount\n",
    "order by vt.id, count DESC;\n",
    "    \"\"\"\n",
    "    result = psql_conn.execute(text(sql))\n",
    "    out = result.fetchall()\n",
    "    df = pd.DataFrame.from_records(out, columns =\n",
    "        ['id', 'symptom', 'count','frequency'])\n",
    "    df = df.drop('count', axis=1)\n",
    "\n",
    "    v01 = df[df['id'] == 'V01']\n",
    "    v02 = df[df['id'] == 'V02']\n",
    "    v03 = df[df['id'] == 'V03']\n",
    "\n",
    "    v01 = v01.drop('id', axis=1)\n",
    "    v01.columns = ['symptom', 'V01']\n",
    "    v02 = v02.drop('id', axis=1)\n",
    "    v02.columns = ['symptom', 'V02']\n",
    "    v03 = v03.drop('id', axis=1)\n",
    "    v03.columns = ['symptom', 'V03']\n",
    "    merged_df = pd.merge(v01, v02, on='symptom', how='outer')\n",
    "\n",
    "    final_df = pd.merge(merged_df, v03, on='symptom', how='outer')\n",
    "    final_df.fillna(0, inplace=True)\n",
    "    def map_frequency(frequency):\n",
    "        if frequency >= 0.1:\n",
    "            return 'very common'\n",
    "        elif frequency >= 0.05:\n",
    "            return 'common'\n",
    "        elif frequency > 0.0:\n",
    "            return 'rare'\n",
    "        else:\n",
    "            return '-'\n",
    "\n",
    "    final_df['V01'] = final_df['V01'].map(map_frequency)\n",
    "    final_df['V02'] = final_df['V02'].map(map_frequency)\n",
    "    final_df['V03'] = final_df['V03'].map(map_frequency)\n",
    "    print(final_df)\n",
    "\n"
   ]
  },
  {
   "cell_type": "markdown",
   "metadata": {},
   "source": [
    "**Question 8**"
   ]
  },
  {
   "cell_type": "code",
   "execution_count": 10,
   "metadata": {
    "ExecuteTime": {
     "end_time": "2023-06-13T14:46:27.799519Z",
     "start_time": "2023-06-13T14:46:27.738387Z"
    }
   },
   "outputs": [
    {
     "name": "stdout",
     "output_type": "stream",
     "text": [
      "As a percentage at least 97.35961804419983% of the total vaccines should be reserved.\n"
     ]
    }
   ],
   "source": [
    "with engine.connect() as psql_conn:\n",
    "    sql = \"\"\"\n",
    " select (count(vp.patientssno) /cast(vb.numvaccines as numeric))\n",
    "    as percentage\n",
    "from vaccinations v\n",
    "left join vaccinebatch vb on v.batchid = vb.batchid\n",
    "left join vaccinepatients vp on v.vaccinationdate = vp.vaccinationdate\n",
    "    and v.location = vp.location\n",
    "group by  v.vaccinationdate,v.location,vb.numvaccines ;\n",
    "    \"\"\"\n",
    "    result = psql_conn.execute(text(sql))\n",
    "    out = result.fetchall()\n",
    "    df = pd.DataFrame.from_records(out, columns=[\"percentage\"])\n",
    "    df['percentage'] = df['percentage'].astype(float)\n",
    "    exp = float(df.mean())\n",
    "    sd =  float(df['percentage'].std())\n",
    "    print(\"As a percentage at least \" + str((exp + sd)*100) +\n",
    "          \"% of the total vaccines should be reserved.\")\n"
   ]
  },
  {
   "cell_type": "markdown",
   "metadata": {},
   "source": [
    "**Question 9**"
   ]
  },
  {
   "cell_type": "code",
   "execution_count": 11,
   "metadata": {
    "ExecuteTime": {
     "end_time": "2023-06-13T14:46:28.589539Z",
     "start_time": "2023-06-13T14:46:27.802519Z"
    }
   },
   "outputs": [
    {
     "data": {
      "image/png": "[encoded data removed]",
      "text/plain": [
       "<Figure size 640x480 with 1 Axes>"
      ]
     },
     "metadata": {},
     "output_type": "display_data"
    }
   ],
   "source": [
    "with engine.connect() as psql_conn:\n",
    "    df = pd.read_sql_table('vaccinepatients', psql_conn)\n",
    "df.rename({'vaccinationdate': 'date',\n",
    "           'patientssno': 'patientSsNo'}, axis=1, inplace=True)\n",
    "grouped_total = df.groupby('date')['patientSsNo'].nunique().reset_index()\n",
    "grouped_total['cumulative_sum'] = grouped_total['patientSsNo'].cumsum()\n",
    "two_dose_patients = df.groupby('patientSsNo').filter(lambda x: len(x) >= 2)\n",
    "grouped_two_dose = two_dose_patients.groupby('date')['patientSsNo']. \\\n",
    "    nunique().reset_index()\n",
    "grouped_two_dose['cumulative_sum'] = \\\n",
    "    grouped_two_dose['patientSsNo'].cumsum()\n",
    "\n",
    "fig, ax = plt.subplots()\n",
    "\n",
    "_ = ax.plot(grouped_total['date'].dt.strftime('%Y-%m-%d'),\n",
    "         grouped_total['cumulative_sum'], label='Total Vaccinated Patients')\n",
    "_ = ax.plot(grouped_two_dose['date'].dt.strftime('%Y-%m-%d'),\n",
    "         grouped_two_dose['cumulative_sum'],\n",
    "         color='orange', label='Patients with Two Doses')\n",
    "\n",
    "_ = ax.set_xlabel('Date')\n",
    "_ = ax.set_ylabel('Number of Patients')\n",
    "_ = ax.set_title('Cumulative Number of Vaccinated Patients')\n",
    "_ = ax.legend()\n",
    "\n",
    "if in_script: fig.show()"
   ]
  },
  {
   "cell_type": "markdown",
   "metadata": {},
   "source": [
    "**Question 10**"
   ]
  },
  {
   "cell_type": "code",
   "execution_count": 12,
   "metadata": {
    "ExecuteTime": {
     "end_time": "2023-06-13T14:46:28.730538Z",
     "start_time": "2023-06-13T14:46:28.590541Z"
    }
   },
   "outputs": [
    {
     "name": "stdout",
     "output_type": "stream",
     "text": [
      "patientssno                name\n",
      "010327-525G Dr. Mireille Hansen\n",
      "060421-302M     Faustino Barton\n",
      "080514-3385  Dakota Greenfelder\n",
      "090226-5673    Dr. Lamont Ferry\n",
      "090416-443L       Aliyah Harber\n",
      "130205-474D      Elenora Sawayn\n",
      "210318-737O         Corine Hane\n",
      "830820-576C        Loyal Hoeger\n",
      "871128-519R        Flossie Torp\n",
      "930508-413K  Mr. Reid Little II\n",
      "930804-509I            Fay Ryan\n",
      "960629-4156       Rossie Spinka\n",
      "990622-5231            Sid Hahn\n"
     ]
    }
   ],
   "source": [
    "with engine.connect() as psql_conn:\n",
    "\n",
    "    statement = '''\n",
    "    -- patients that the nurse may have met in\n",
    "-- vaccination events in the past 10 days\n",
    "SELECT DISTINCT vp.patientssno, p.name\n",
    "FROM vaccinations v\n",
    "JOIN vaccinepatients vp ON v.vaccinationdate = vp.vaccinationdate\n",
    "    AND v.location = vp.location\n",
    "JOIN patients p ON vp.patientssno = p.ssno\n",
    "JOIN staffmembers s ON v.location = s.hospital\n",
    "WHERE v.vaccinationdate >= '2021-05-05'\n",
    "  AND v.vaccinationdate <= '2021-05-15'\n",
    "  AND s.ssno = '19740919-7140';\n",
    "    '''\n",
    "    result = psql_conn.execute(text(statement))\n",
    "    out = result.fetchall()\n",
    "    column_names = list(result.keys())\n",
    "    df = pd.DataFrame.from_records(out, columns=column_names)\n",
    "    output_string = df.to_string(index=False)\n",
    "    print(output_string)"
   ]
  },
  {
   "cell_type": "code",
   "execution_count": 13,
   "metadata": {
    "ExecuteTime": {
     "end_time": "2023-06-13T14:46:28.817538Z",
     "start_time": "2023-06-13T14:46:28.730538Z"
    }
   },
   "outputs": [
    {
     "name": "stdout",
     "output_type": "stream",
     "text": [
      "         ssno              name\n",
      "19940615-4448     Jordy Hilpert\n",
      "19831020-4745  Madisyn Shanahan\n",
      "19771112-4048      Greg Schuppe\n",
      "19930315-7195   Jeromy McKenzie\n",
      "19910122-1693 Ashley Konopelski\n",
      "19920802-4854       Kaden Tromp\n"
     ]
    }
   ],
   "source": [
    "with engine.connect() as psql_conn:\n",
    "    statement = '''\n",
    "-- staff members that the nurse may have met\n",
    "-- in vaccination events in the past 10 days\n",
    "SELECT DISTINCT s.ssno, s.name\n",
    "FROM staffmembers s\n",
    "JOIN shifts sh ON s.ssno = sh.worker\n",
    "JOIN vaccinations v ON sh.station = v.location\n",
    "WHERE v.location = (SELECT hospital FROM staffmembers\n",
    "                    WHERE ssno = '19740919-7140')\n",
    "  AND sh.weekday IN (SELECT weekday FROM shifts\n",
    "                    WHERE worker = '19740919-7140')\n",
    "  AND s.ssno != '19740919-7140';\n",
    "    '''\n",
    "    result = psql_conn.execute(text(statement))\n",
    "    out = result.fetchall()\n",
    "    column_names = list(result.keys())\n",
    "    df = pd.DataFrame.from_records(out, columns=column_names)\n",
    "    output_string = df.to_string(index=False)\n",
    "    print(output_string)"
   ]
  },
  {
   "cell_type": "markdown",
   "metadata": {},
   "source": []
  }
 ],
 "metadata": {
  "kernelspec": {
   "display_name": "Python 3 (ipykernel)",
   "language": "python",
   "name": "python3"
  },
  "language_info": {
   "codemirror_mode": {
    "name": "ipython",
    "version": 3
   },
   "file_extension": ".py",
   "mimetype": "text/x-python",
   "name": "python",
   "nbconvert_exporter": "python",
   "pygments_lexer": "ipython3",
   "version": "3.9.1"
  }
 },
 "nbformat": 4,
 "nbformat_minor": 1
}
